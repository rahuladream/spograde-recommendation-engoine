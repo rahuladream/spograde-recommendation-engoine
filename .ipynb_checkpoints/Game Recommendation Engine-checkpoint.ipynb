{
 "cells": [
  {
   "cell_type": "markdown",
   "metadata": {},
   "source": [
    "## Game Recommendation Engine"
   ]
  },
  {
   "cell_type": "code",
   "execution_count": 7,
   "metadata": {},
   "outputs": [],
   "source": [
    "# Importing the libraries usefull for the function\n",
    "from os.path import join, dirname\n",
    "import math\n",
    "import pandas as pd\n",
    "from sklearn.feature_extraction.text import TfidfVectorizer\n",
    "from sklearn.metrics.pairwise import linear_kernel"
   ]
  },
  {
   "cell_type": "code",
   "execution_count": 13,
   "metadata": {},
   "outputs": [],
   "source": [
    "csvPath = pd.read_csv('/home/rahul/Workspace/spograde-recommendation-engine/game_steam.csv', engine=\"python\")"
   ]
  },
  {
   "cell_type": "code",
   "execution_count": 15,
   "metadata": {},
   "outputs": [
    {
     "data": {
      "text/plain": [
       "appid               27059\n",
       "name                27059\n",
       "release_date        27059\n",
       "english             27059\n",
       "developer           27059\n",
       "publisher           27059\n",
       "platforms           27046\n",
       "required_age        27058\n",
       "categories          27058\n",
       "genres              27058\n",
       "steamspy_tags       27059\n",
       "achievements        27059\n",
       "positive_ratings    27059\n",
       "negative_ratings    27059\n",
       "average_playtime    27059\n",
       "median_playtime     27048\n",
       "owners              26977\n",
       "price               26554\n",
       "Unnamed: 18            13\n",
       "Unnamed: 19             1\n",
       "Unnamed: 20             1\n",
       "Unnamed: 21             1\n",
       "dtype: int64"
      ]
     },
     "execution_count": 15,
     "metadata": {},
     "output_type": "execute_result"
    }
   ],
   "source": [
    "csvPath.count()"
   ]
  },
  {
   "cell_type": "code",
   "execution_count": 26,
   "metadata": {},
   "outputs": [],
   "source": [
    "app_id = csvPath[['appid']].values.flatten().tolist()\n",
    "name = csvPath[['name']].values.flatten().tolist()\n",
    "release_date = csvPath[['release_date']].values.flatten().tolist()\n",
    "developer = csvPath[['developer']].values.flatten().tolist()\n",
    "plateforms = csvPath[['platforms']].values.flatten().tolist()\n",
    "categories = csvPath[['categories']].values.flatten().tolist()\n",
    "positive_ratings = csvPath[['positive_ratings']].values.flatten().tolist()\n",
    "negative_ratings = csvPath[['negative_ratings']].values.flatten().tolist()\n",
    "price = csvPath[['price']].values.flatten().tolist()"
   ]
  },
  {
   "cell_type": "code",
   "execution_count": 27,
   "metadata": {},
   "outputs": [],
   "source": [
    "dataset = {\n",
    "    'app_id':app_id,\n",
    "    'name': name,\n",
    "    'release_date':release_date,\n",
    "    'developer':developer,\n",
    "    'plateforms':plateforms,\n",
    "    'categories':categories,\n",
    "    'positive_ratings':positive_ratings,\n",
    "    'negative_ratings':negative_ratings,\n",
    "    'price':price,\n",
    "}"
   ]
  },
  {
   "cell_type": "code",
   "execution_count": 29,
   "metadata": {},
   "outputs": [
    {
     "data": {
      "text/plain": [
       "{'name': 'Counter-Strike: Source',\n",
       " 'categories': 'Multi-player;Cross-Platform Multiplayer;Steam Achievements;Steam Cloud;Valve Anti-Cheat enabled;Stats;Includes Source SDK'}"
      ]
     },
     "execution_count": 29,
     "metadata": {},
     "output_type": "execute_result"
    }
   ],
   "source": [
    "{\n",
    "    'name': dataset['name'][10],\n",
    "    'categories': dataset['categories'][10]\n",
    "}"
   ]
  },
  {
   "cell_type": "code",
   "execution_count": null,
   "metadata": {},
   "outputs": [],
   "source": [
    "game_vectorizer = TfidfVectorizer(\n",
    "    lowercase=True,\n",
    "    min_df=2,\n",
    "    max_df=0.9,\n",
    "    ngram_range=(1,2),\n",
    "    stop_words='english'\n",
    ") "
   ]
  }
 ],
 "metadata": {
  "kernelspec": {
   "display_name": "venv",
   "language": "python",
   "name": "venv"
  },
  "language_info": {
   "codemirror_mode": {
    "name": "ipython",
    "version": 3
   },
   "file_extension": ".py",
   "mimetype": "text/x-python",
   "name": "python",
   "nbconvert_exporter": "python",
   "pygments_lexer": "ipython3",
   "version": "3.6.9"
  }
 },
 "nbformat": 4,
 "nbformat_minor": 2
}
