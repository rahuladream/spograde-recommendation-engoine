{
 "cells": [
  {
   "cell_type": "code",
   "execution_count": 1,
   "metadata": {},
   "outputs": [],
   "source": [
    "from moviebox.recommender import recommender"
   ]
  },
  {
   "cell_type": "code",
   "execution_count": 2,
   "metadata": {},
   "outputs": [],
   "source": [
    "movieId = 32"
   ]
  },
  {
   "cell_type": "code",
   "execution_count": 3,
   "metadata": {},
   "outputs": [
    {
     "data": {
      "text/plain": [
       "32"
      ]
     },
     "execution_count": 3,
     "metadata": {},
     "output_type": "execute_result"
    }
   ],
   "source": [
    "movieId"
   ]
  },
  {
   "cell_type": "code",
   "execution_count": 4,
   "metadata": {},
   "outputs": [],
   "source": [
    "recommendationsNumber = 10"
   ]
  },
  {
   "cell_type": "code",
   "execution_count": 10,
   "metadata": {},
   "outputs": [],
   "source": [
    "showPlots = False"
   ]
  },
  {
   "cell_type": "code",
   "execution_count": 11,
   "metadata": {},
   "outputs": [],
   "source": [
    "interactive = True"
   ]
  },
  {
   "cell_type": "code",
   "execution_count": 12,
   "metadata": {},
   "outputs": [
    {
     "name": "stdout",
     "output_type": "stream",
     "text": [
      "✔ Imported Data\t\t0.2s\n",
      "✔ Split Data\t\t0.0s\n",
      "✔ Trained Engine\t6.0s\n",
      "✔ Found Similarities\t1.3s\n",
      "❯ Given Movie\n",
      "• Title: Zindagi - ID: 32\n",
      "  Categories: Bollywood\n",
      "\n",
      "★ Top 10 Recommendations\n",
      "• Title: Kedi - ID: 3083\n",
      "  Categories: Action\n",
      "\n",
      "• Title: Bawarchi - ID: 3404\n",
      "  Categories: Musical, Bollywood, World cinema\n",
      "\n",
      "• Title: I Love You - ID: 926\n",
      "  Categories: Romance Film, Drama\n",
      "\n",
      "• Title: Vaastav: The Reality - ID: 3500\n",
      "  Categories: Musical, World cinema, Bollywood\n",
      "\n",
      "• Title: Lajja - ID: 4621\n",
      "  Categories: Musical, Drama, Bollywood, World cinema\n",
      "\n",
      "• Title: Baana Kaathadi - ID: 976\n",
      "  Categories: Romance Film\n",
      "\n",
      "• Title: Chetna - ID: 3455\n",
      "  Categories: Action\n",
      "\n",
      "• Title: Charas - ID: 1188\n",
      "  Categories: Thriller, Action\n",
      "\n",
      "• Title: Aaptamitra - ID: 2123\n",
      "  Categories: Thriller, Horror, World cinema\n",
      "\n",
      "• Title: Veera Bahu - ID: 3023\n",
      "  Categories: Action\n",
      "\n"
     ]
    },
    {
     "data": {
      "text/plain": [
       "0"
      ]
     },
     "execution_count": 12,
     "metadata": {},
     "output_type": "execute_result"
    }
   ],
   "source": [
    "recommender(\n",
    "    movieID=movieId,\n",
    "    recommendationsNumber=recommendationsNumber,\n",
    "    showPlots=showPlots,\n",
    "    interactive=interactive\n",
    ")"
   ]
  },
  {
   "cell_type": "code",
   "execution_count": null,
   "metadata": {},
   "outputs": [],
   "source": []
  }
 ],
 "metadata": {
  "kernelspec": {
   "display_name": "venv",
   "language": "python",
   "name": "venv"
  },
  "language_info": {
   "codemirror_mode": {
    "name": "ipython",
    "version": 3
   },
   "file_extension": ".py",
   "mimetype": "text/x-python",
   "name": "python",
   "nbconvert_exporter": "python",
   "pygments_lexer": "ipython3",
   "version": "3.6.9"
  }
 },
 "nbformat": 4,
 "nbformat_minor": 2
}
