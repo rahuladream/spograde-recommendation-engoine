{
 "cells": [
  {
   "cell_type": "code",
   "execution_count": 166,
   "metadata": {},
   "outputs": [],
   "source": [
    "from os.path import join, dirname\n",
    "import math\n",
    "import pandas as pd\n",
    "from sklearn.feature_extraction.text import TfidfVectorizer\n",
    "from sklearn.metrics.pairwise import linear_kernel\n",
    "from surprise.model_selection import cross_validate\n",
    "from surprise import NormalPredictor\n",
    "from surprise import SVD\n",
    "# SVD = singular value decomposition"
   ]
  },
  {
   "cell_type": "code",
   "execution_count": 1,
   "metadata": {},
   "outputs": [],
   "source": [
    "from moviebox.recommender import recommender"
   ]
  },
  {
   "cell_type": "code",
   "execution_count": 2,
   "metadata": {},
   "outputs": [],
   "source": [
    "movieId = 32"
   ]
  },
  {
   "cell_type": "code",
   "execution_count": 3,
   "metadata": {},
   "outputs": [
    {
     "data": {
      "text/plain": [
       "32"
      ]
     },
     "execution_count": 3,
     "metadata": {},
     "output_type": "execute_result"
    }
   ],
   "source": [
    "movieId"
   ]
  },
  {
   "cell_type": "code",
   "execution_count": 4,
   "metadata": {},
   "outputs": [],
   "source": [
    "recommendationsNumber = 10"
   ]
  },
  {
   "cell_type": "code",
   "execution_count": 10,
   "metadata": {},
   "outputs": [],
   "source": [
    "showPlots = False"
   ]
  },
  {
   "cell_type": "code",
   "execution_count": 11,
   "metadata": {},
   "outputs": [],
   "source": [
    "interactive = True"
   ]
  },
  {
   "cell_type": "code",
   "execution_count": 12,
   "metadata": {},
   "outputs": [
    {
     "name": "stdout",
     "output_type": "stream",
     "text": [
      "✔ Imported Data\t\t0.2s\n",
      "✔ Split Data\t\t0.0s\n",
      "✔ Trained Engine\t6.0s\n",
      "✔ Found Similarities\t1.3s\n",
      "❯ Given Movie\n",
      "• Title: Zindagi - ID: 32\n",
      "  Categories: Bollywood\n",
      "\n",
      "★ Top 10 Recommendations\n",
      "• Title: Kedi - ID: 3083\n",
      "  Categories: Action\n",
      "\n",
      "• Title: Bawarchi - ID: 3404\n",
      "  Categories: Musical, Bollywood, World cinema\n",
      "\n",
      "• Title: I Love You - ID: 926\n",
      "  Categories: Romance Film, Drama\n",
      "\n",
      "• Title: Vaastav: The Reality - ID: 3500\n",
      "  Categories: Musical, World cinema, Bollywood\n",
      "\n",
      "• Title: Lajja - ID: 4621\n",
      "  Categories: Musical, Drama, Bollywood, World cinema\n",
      "\n",
      "• Title: Baana Kaathadi - ID: 976\n",
      "  Categories: Romance Film\n",
      "\n",
      "• Title: Chetna - ID: 3455\n",
      "  Categories: Action\n",
      "\n",
      "• Title: Charas - ID: 1188\n",
      "  Categories: Thriller, Action\n",
      "\n",
      "• Title: Aaptamitra - ID: 2123\n",
      "  Categories: Thriller, Horror, World cinema\n",
      "\n",
      "• Title: Veera Bahu - ID: 3023\n",
      "  Categories: Action\n",
      "\n"
     ]
    },
    {
     "data": {
      "text/plain": [
       "0"
      ]
     },
     "execution_count": 12,
     "metadata": {},
     "output_type": "execute_result"
    }
   ],
   "source": [
    "recommender(\n",
    "    movieID=movieId,\n",
    "    recommendationsNumber=recommendationsNumber,\n",
    "    showPlots=showPlots,\n",
    "    interactive=interactive\n",
    ")"
   ]
  },
  {
   "cell_type": "code",
   "execution_count": 13,
   "metadata": {},
   "outputs": [
    {
     "data": {
      "text/plain": [
       "<function moviebox.recommender.recommender(movieID=2874, recommendationsNumber=3, showPlots=False, interactive=False)>"
      ]
     },
     "execution_count": 13,
     "metadata": {},
     "output_type": "execute_result"
    }
   ],
   "source": [
    "recommender"
   ]
  },
  {
   "cell_type": "code",
   "execution_count": 32,
   "metadata": {},
   "outputs": [],
   "source": [
    "csvPath = pd.read_csv('/home/rahul/Workspace/spograde-recommendation-engine/moviebox/moviebox/dataset/movies.csv')"
   ]
  },
  {
   "cell_type": "raw",
   "metadata": {},
   "source": [
    "cosine_sim(u,v)=∑i∈Iuvrui⋅rvi∑i∈Iuvr2ui−−−−−−√⋅∑i∈Iuvr2vi−−−−−−√"
   ]
  },
  {
   "cell_type": "code",
   "execution_count": 169,
   "metadata": {},
   "outputs": [
    {
     "data": {
      "text/html": [
       "<div>\n",
       "<style scoped>\n",
       "    .dataframe tbody tr th:only-of-type {\n",
       "        vertical-align: middle;\n",
       "    }\n",
       "\n",
       "    .dataframe tbody tr th {\n",
       "        vertical-align: top;\n",
       "    }\n",
       "\n",
       "    .dataframe thead th {\n",
       "        text-align: right;\n",
       "    }\n",
       "</style>\n",
       "<table border=\"1\" class=\"dataframe\">\n",
       "  <thead>\n",
       "    <tr style=\"text-align: right;\">\n",
       "      <th></th>\n",
       "      <th>ID</th>\n",
       "      <th>Title</th>\n",
       "      <th>Category</th>\n",
       "      <th>Plot</th>\n",
       "    </tr>\n",
       "  </thead>\n",
       "  <tbody>\n",
       "    <tr>\n",
       "      <th>0</th>\n",
       "      <td>0</td>\n",
       "      <td>Ghosts of Mars</td>\n",
       "      <td>\"Thriller\",  \"Science Fiction\",  \"Horror\",  \"A...</td>\n",
       "      <td>Set in the second half of the 22nd century, th...</td>\n",
       "    </tr>\n",
       "    <tr>\n",
       "      <th>1</th>\n",
       "      <td>1</td>\n",
       "      <td>White Of The Eye</td>\n",
       "      <td>\"Thriller\",  \"Erotic thriller\",  \"Psychologica...</td>\n",
       "      <td>A series of murders of rich young women throug...</td>\n",
       "    </tr>\n",
       "    <tr>\n",
       "      <th>2</th>\n",
       "      <td>2</td>\n",
       "      <td>A Woman in Flames</td>\n",
       "      <td>\"Drama\"</td>\n",
       "      <td>Eva, an upper class housewife, becomes frustra...</td>\n",
       "    </tr>\n",
       "    <tr>\n",
       "      <th>3</th>\n",
       "      <td>3</td>\n",
       "      <td>The Sorcerer's Apprentice</td>\n",
       "      <td>\"Family Film\",  \"Fantasy\",  \"Adventure\",  \"Wor...</td>\n",
       "      <td>Every hundred years, the evil Morgana  returns...</td>\n",
       "    </tr>\n",
       "    <tr>\n",
       "      <th>4</th>\n",
       "      <td>4</td>\n",
       "      <td>Little city</td>\n",
       "      <td>\"Romantic comedy\",  \"Ensemble Film\",  \"Comedy-...</td>\n",
       "      <td>Adam, a San Francisco-based artist who works a...</td>\n",
       "    </tr>\n",
       "    <tr>\n",
       "      <th>...</th>\n",
       "      <td>...</td>\n",
       "      <td>...</td>\n",
       "      <td>...</td>\n",
       "      <td>...</td>\n",
       "    </tr>\n",
       "    <tr>\n",
       "      <th>4995</th>\n",
       "      <td>4995</td>\n",
       "      <td>Morgan and Destiny's Eleventeenth Date: The Ze...</td>\n",
       "      <td>\"Short Film\",  \"Romance Film\",  \"Animation\"</td>\n",
       "      <td>Morgan  and Destiny  pay a visit to an ornate ...</td>\n",
       "    </tr>\n",
       "    <tr>\n",
       "      <th>4996</th>\n",
       "      <td>4996</td>\n",
       "      <td>Indradhanura Chhai</td>\n",
       "      <td>\"Drama\"</td>\n",
       "      <td>The film looks at the lives of three women liv...</td>\n",
       "    </tr>\n",
       "    <tr>\n",
       "      <th>4997</th>\n",
       "      <td>4997</td>\n",
       "      <td>Barfuß bis zum Hals</td>\n",
       "      <td>\"Comedy film\"</td>\n",
       "      <td>A nudist site in eastern Germany is sold to Di...</td>\n",
       "    </tr>\n",
       "    <tr>\n",
       "      <th>4998</th>\n",
       "      <td>4998</td>\n",
       "      <td>Donovan's Reef</td>\n",
       "      <td>\"Romantic comedy\",  \"Action/Adventure\",  \"Come...</td>\n",
       "      <td>The film begins with Thomas \"Boats\" Gilhooley ...</td>\n",
       "    </tr>\n",
       "    <tr>\n",
       "      <th>4999</th>\n",
       "      <td>4999</td>\n",
       "      <td>Fat Pizza: The Movie</td>\n",
       "      <td>\"Comedy\"</td>\n",
       "      <td>Fat Pizza the film is yet another slice of lif...</td>\n",
       "    </tr>\n",
       "  </tbody>\n",
       "</table>\n",
       "<p>5000 rows × 4 columns</p>\n",
       "</div>"
      ],
      "text/plain": [
       "        ID                                              Title  \\\n",
       "0        0                                     Ghosts of Mars   \n",
       "1        1                                   White Of The Eye   \n",
       "2        2                                  A Woman in Flames   \n",
       "3        3                          The Sorcerer's Apprentice   \n",
       "4        4                                        Little city   \n",
       "...    ...                                                ...   \n",
       "4995  4995  Morgan and Destiny's Eleventeenth Date: The Ze...   \n",
       "4996  4996                                 Indradhanura Chhai   \n",
       "4997  4997                                Barfuß bis zum Hals   \n",
       "4998  4998                                     Donovan's Reef   \n",
       "4999  4999                               Fat Pizza: The Movie   \n",
       "\n",
       "                                               Category  \\\n",
       "0     \"Thriller\",  \"Science Fiction\",  \"Horror\",  \"A...   \n",
       "1     \"Thriller\",  \"Erotic thriller\",  \"Psychologica...   \n",
       "2                                               \"Drama\"   \n",
       "3     \"Family Film\",  \"Fantasy\",  \"Adventure\",  \"Wor...   \n",
       "4     \"Romantic comedy\",  \"Ensemble Film\",  \"Comedy-...   \n",
       "...                                                 ...   \n",
       "4995        \"Short Film\",  \"Romance Film\",  \"Animation\"   \n",
       "4996                                            \"Drama\"   \n",
       "4997                                      \"Comedy film\"   \n",
       "4998  \"Romantic comedy\",  \"Action/Adventure\",  \"Come...   \n",
       "4999                                           \"Comedy\"   \n",
       "\n",
       "                                                   Plot  \n",
       "0     Set in the second half of the 22nd century, th...  \n",
       "1     A series of murders of rich young women throug...  \n",
       "2     Eva, an upper class housewife, becomes frustra...  \n",
       "3     Every hundred years, the evil Morgana  returns...  \n",
       "4     Adam, a San Francisco-based artist who works a...  \n",
       "...                                                 ...  \n",
       "4995  Morgan  and Destiny  pay a visit to an ornate ...  \n",
       "4996  The film looks at the lives of three women liv...  \n",
       "4997  A nudist site in eastern Germany is sold to Di...  \n",
       "4998  The film begins with Thomas \"Boats\" Gilhooley ...  \n",
       "4999  Fat Pizza the film is yet another slice of lif...  \n",
       "\n",
       "[5000 rows x 4 columns]"
      ]
     },
     "execution_count": 169,
     "metadata": {},
     "output_type": "execute_result"
    }
   ],
   "source": [
    "csvPath"
   ]
  },
  {
   "cell_type": "code",
   "execution_count": 217,
   "metadata": {},
   "outputs": [],
   "source": [
    "#values => return queryset containing dictionaries\n",
    "#flatten() => json nested form\n",
    "#tolist() => return the list of values\n",
    "titles = csvPath[['Title']].values.flatten().tolist()"
   ]
  },
  {
   "cell_type": "code",
   "execution_count": 218,
   "metadata": {},
   "outputs": [],
   "source": [
    "categories = csvPath[['Category']].values.flatten().tolist()"
   ]
  },
  {
   "cell_type": "code",
   "execution_count": 219,
   "metadata": {},
   "outputs": [],
   "source": [
    "plot = csvPath[['Plot']].values.flatten().tolist()"
   ]
  },
  {
   "cell_type": "code",
   "execution_count": 249,
   "metadata": {},
   "outputs": [],
   "source": [
    "dataset = {\n",
    "    'titles': titles,\n",
    "    'categories': categories,\n",
    "    'plots': plot\n",
    "}"
   ]
  },
  {
   "cell_type": "code",
   "execution_count": 221,
   "metadata": {},
   "outputs": [],
   "source": [
    "def validateMovieID(movieId):\n",
    "    if not (isinstance(movieId, int) and movieId >= 0 and movieId <= 4999):\n",
    "        print('Invalid value for movieID {}'.format(movieId))\n",
    "    return 0"
   ]
  },
  {
   "cell_type": "code",
   "execution_count": 222,
   "metadata": {},
   "outputs": [
    {
     "name": "stdout",
     "output_type": "stream",
     "text": [
      "Invalid value for movieID 9000\n"
     ]
    },
    {
     "data": {
      "text/plain": [
       "0"
      ]
     },
     "execution_count": 222,
     "metadata": {},
     "output_type": "execute_result"
    }
   ],
   "source": [
    "validateMovieID(9000)"
   ]
  },
  {
   "cell_type": "code",
   "execution_count": 223,
   "metadata": {},
   "outputs": [
    {
     "data": {
      "text/plain": [
       "{'title': 'Zindagi', 'category': '\"Bollywood\"'}"
      ]
     },
     "execution_count": 223,
     "metadata": {},
     "output_type": "execute_result"
    }
   ],
   "source": [
    "{\n",
    "    'title': dataset['titles'][32],\n",
    "    'category': dataset['categories'][32]\n",
    "}"
   ]
  },
  {
   "cell_type": "code",
   "execution_count": 224,
   "metadata": {},
   "outputs": [],
   "source": [
    "list_zip = []\n",
    "for i in range(20):\n",
    "    list={\n",
    "        'title': dataset['titles'][i],\n",
    "        'category': dataset['categories'][i]\n",
    "    }\n",
    "    list_zip.append(list)"
   ]
  },
  {
   "cell_type": "code",
   "execution_count": 225,
   "metadata": {},
   "outputs": [
    {
     "data": {
      "text/plain": [
       "sklearn.feature_extraction.text.TfidfVectorizer"
      ]
     },
     "execution_count": 225,
     "metadata": {},
     "output_type": "execute_result"
    }
   ],
   "source": [
    "TfidfVectorizer"
   ]
  },
  {
   "cell_type": "code",
   "execution_count": 226,
   "metadata": {},
   "outputs": [],
   "source": [
    "vectorizer = TfidfVectorizer(\n",
    "    lowercase=True,\n",
    "    min_df=3,\n",
    "    max_df=0.9,\n",
    "    ngram_range=(1,2),\n",
    "    stop_words='english'\n",
    ")"
   ]
  },
  {
   "cell_type": "code",
   "execution_count": 239,
   "metadata": {},
   "outputs": [],
   "source": [
    "plotsTFIDF = vectorizer.fit_transform(dataset['categories'])"
   ]
  },
  {
   "cell_type": "code",
   "execution_count": 240,
   "metadata": {},
   "outputs": [],
   "source": [
    "cosineSimilarities = linear_kernel(plotsTFIDF, plotsTFIDF)"
   ]
  },
  {
   "cell_type": "code",
   "execution_count": 241,
   "metadata": {},
   "outputs": [
    {
     "data": {
      "text/plain": [
       "array([0., 0., 0., ..., 0., 0., 0.])"
      ]
     },
     "execution_count": 241,
     "metadata": {},
     "output_type": "execute_result"
    }
   ],
   "source": [
    "cosineSimilarities[32]"
   ]
  },
  {
   "cell_type": "code",
   "execution_count": 242,
   "metadata": {},
   "outputs": [],
   "source": [
    "scores = enumerate(cosineSimilarities[32])"
   ]
  },
  {
   "cell_type": "code",
   "execution_count": 243,
   "metadata": {},
   "outputs": [],
   "source": [
    "sortedScores = sorted(scores, key=lambda x: x[1], reverse=True)"
   ]
  },
  {
   "cell_type": "code",
   "execution_count": 244,
   "metadata": {},
   "outputs": [
    {
     "data": {
      "text/plain": [
       "<enumerate at 0x7f6f6ae5e5a0>"
      ]
     },
     "execution_count": 244,
     "metadata": {},
     "output_type": "execute_result"
    }
   ],
   "source": [
    "scores"
   ]
  },
  {
   "cell_type": "code",
   "execution_count": 245,
   "metadata": {},
   "outputs": [],
   "source": [
    "#5 => no. of recommendations\n",
    "movie_Recommendations = sortedScores[1:5+1]"
   ]
  },
  {
   "cell_type": "code",
   "execution_count": null,
   "metadata": {},
   "outputs": [],
   "source": []
  },
  {
   "cell_type": "code",
   "execution_count": 246,
   "metadata": {},
   "outputs": [
    {
     "name": "stdout",
     "output_type": "stream",
     "text": [
      "{'movie_id': 1076, 'title': 'Meera', 'category': '\"Bollywood\"', 'matching': 100}\n",
      "{'movie_id': 1397, 'title': 'Baseraa', 'category': '\"Bollywood\"', 'matching': 100}\n",
      "{'movie_id': 1992, 'title': 'Yehi Hai Zindagi', 'category': '\"Bollywood\"', 'matching': 100}\n",
      "{'movie_id': 2527, 'title': 'Jeevan Dhaara', 'category': '\"Bollywood\"', 'matching': 100}\n",
      "{'movie_id': 3219, 'title': 'Dilwale', 'category': '\"Bollywood\"', 'matching': 100}\n"
     ]
    }
   ],
   "source": [
    "\n",
    "for movie in movie_Recommendations:\n",
    "    a = {\n",
    "        'movie_id': movie[0],\n",
    "        'title': dataset['titles'][movie[0]],\n",
    "        'category': dataset['categories'][movie[0]],\n",
    "        'matching': math.ceil(movie[1]*100)\n",
    "    }\n",
    "    print(a)"
   ]
  },
  {
   "cell_type": "code",
   "execution_count": null,
   "metadata": {},
   "outputs": [],
   "source": []
  },
  {
   "cell_type": "code",
   "execution_count": null,
   "metadata": {},
   "outputs": [],
   "source": []
  },
  {
   "cell_type": "code",
   "execution_count": null,
   "metadata": {},
   "outputs": [],
   "source": []
  },
  {
   "cell_type": "code",
   "execution_count": null,
   "metadata": {
    "scrolled": true
   },
   "outputs": [],
   "source": []
  },
  {
   "cell_type": "code",
   "execution_count": null,
   "metadata": {},
   "outputs": [],
   "source": []
  },
  {
   "cell_type": "code",
   "execution_count": null,
   "metadata": {},
   "outputs": [],
   "source": []
  }
 ],
 "metadata": {
  "kernelspec": {
   "display_name": "venv",
   "language": "python",
   "name": "venv"
  },
  "language_info": {
   "codemirror_mode": {
    "name": "ipython",
    "version": 3
   },
   "file_extension": ".py",
   "mimetype": "text/x-python",
   "name": "python",
   "nbconvert_exporter": "python",
   "pygments_lexer": "ipython3",
   "version": "3.6.9"
  }
 },
 "nbformat": 4,
 "nbformat_minor": 2
}
